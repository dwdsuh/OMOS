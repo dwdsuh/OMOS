{
  "nbformat": 4,
  "nbformat_minor": 0,
  "metadata": {
    "colab": {
      "name": "Advanced DL practices Keras.ipynb",
      "version": "0.3.2",
      "provenance": [],
      "collapsed_sections": [],
      "include_colab_link": true
    },
    "kernelspec": {
      "name": "python3",
      "display_name": "Python 3"
    },
    "accelerator": "GPU"
  },
  "cells": [
    {
      "cell_type": "markdown",
      "metadata": {
        "id": "view-in-github",
        "colab_type": "text"
      },
      "source": [
        "<a href=\"https://colab.research.google.com/github/dwdsuh/OMOS/blob/master/Advanced_DL_practices_Keras.ipynb\" target=\"_parent\"><img src=\"https://colab.research.google.com/assets/colab-badge.svg\" alt=\"Open In Colab\"/></a>"
      ]
    },
    {
      "metadata": {
        "id": "3rbsldprKbXl",
        "colab_type": "text"
      },
      "cell_type": "markdown",
      "source": [
        "-concept of inception module & residual connection"
      ]
    },
    {
      "metadata": {
        "id": "_rHIXQcSKrB1",
        "colab_type": "text"
      },
      "cell_type": "markdown",
      "source": [
        "#1. Intro to the functional API"
      ]
    },
    {
      "metadata": {
        "id": "HmBbeH_3F0Vh",
        "colab_type": "code",
        "colab": {}
      },
      "cell_type": "code",
      "source": [
        "from keras import Input, layers\n",
        "\n",
        "input_tensor=Input(shape=(32,))\n",
        "dense=layers.Dense(32, activation='relu')\n",
        "output_tensor=dense(input_tensor)"
      ],
      "execution_count": 0,
      "outputs": []
    },
    {
      "metadata": {
        "id": "19uIzUshNFNY",
        "colab_type": "text"
      },
      "cell_type": "markdown",
      "source": [
        "## 1) Comparing Sequential model and API function"
      ]
    },
    {
      "metadata": {
        "id": "CvstoZxdLNlK",
        "colab_type": "code",
        "outputId": "45a8d0e7-b2eb-4b37-975a-163e1e9b1841",
        "colab": {
          "base_uri": "https://localhost:8080/",
          "height": 540
        }
      },
      "cell_type": "code",
      "source": [
        "from keras.models import Sequential, Model\n",
        "\n",
        "seq_model=Sequential()\n",
        "seq_model.add(layers.Dense(32, activation='relu', input_shape=(64,)))\n",
        "seq_model.add(layers.Dense(32, activation='relu'))\n",
        "seq_model.add(layers.Dense(10, activation='softmax'))\n",
        "\n",
        "input_tensor=Input(shape=(64,))\n",
        "x=layers.Dense(32, activation='relu')(input_tensor)\n",
        "x=layers.Dense(32, activation='relu')(x)\n",
        "output_tensor=layers.Dense(10, activation='softmax')(x)\n",
        "model=Model(input_tensor, output_tensor)\n",
        "\n",
        "seq_model.summary()\n",
        "model.summary()"
      ],
      "execution_count": 0,
      "outputs": [
        {
          "output_type": "stream",
          "text": [
            "_________________________________________________________________\n",
            "Layer (type)                 Output Shape              Param #   \n",
            "=================================================================\n",
            "dense_3 (Dense)              (None, 32)                2080      \n",
            "_________________________________________________________________\n",
            "dense_4 (Dense)              (None, 32)                1056      \n",
            "_________________________________________________________________\n",
            "dense_5 (Dense)              (None, 10)                330       \n",
            "=================================================================\n",
            "Total params: 3,466\n",
            "Trainable params: 3,466\n",
            "Non-trainable params: 0\n",
            "_________________________________________________________________\n",
            "_________________________________________________________________\n",
            "Layer (type)                 Output Shape              Param #   \n",
            "=================================================================\n",
            "input_2 (InputLayer)         (None, 64)                0         \n",
            "_________________________________________________________________\n",
            "dense_6 (Dense)              (None, 32)                2080      \n",
            "_________________________________________________________________\n",
            "dense_7 (Dense)              (None, 32)                1056      \n",
            "_________________________________________________________________\n",
            "dense_8 (Dense)              (None, 10)                330       \n",
            "=================================================================\n",
            "Total params: 3,466\n",
            "Trainable params: 3,466\n",
            "Non-trainable params: 0\n",
            "_________________________________________________________________\n"
          ],
          "name": "stdout"
        }
      ]
    },
    {
      "metadata": {
        "id": "3uYJbJiQNvuB",
        "colab_type": "text"
      },
      "cell_type": "markdown",
      "source": [
        "##2) Multi-input models"
      ]
    },
    {
      "metadata": {
        "id": "7TTmLMqZM51K",
        "colab_type": "code",
        "outputId": "34546c6e-1b60-4632-917e-6fdbaeb53c9f",
        "colab": {
          "base_uri": "https://localhost:8080/",
          "height": 485
        }
      },
      "cell_type": "code",
      "source": [
        "from keras.models import Model\n",
        "from keras import layers\n",
        "from keras import Input\n",
        "\n",
        "text_voc_size=10000\n",
        "quest_voc_size=10000\n",
        "answer_voc_size=500\n",
        "\n",
        "text_input=Input(shape=(None,), dtype='int32', name='text')\n",
        "embedded_text=layers.Embedding(text_voc_size, 64)(text_input)\n",
        "encoded_text=layers.LSTM(32)(embedded_text)\n",
        "\n",
        "quest_input=Input(shape=(None,), dtype='int32', name='question')\n",
        "embedded_question=layers.Embedding(quest_voc_size, 32)(quest_input)\n",
        "encoded_question=layers.LSTM(16)(embedded_question)\n",
        "\n",
        "\n",
        "concatenated=layers.concatenate([encoded_text, encoded_question], axis=-1)\n",
        "answer=layers.Dense(answer_voc_size, activation='softmax')(concatenated)\n",
        "\n",
        "model=Model([text_input, quest_input], answer)\n",
        "model.summary()\n",
        "\n",
        "model.compile(optimizer='rmsprop',\n",
        "             loss='categorical_crossentropy',\n",
        "             metrics=['acc'])"
      ],
      "execution_count": 0,
      "outputs": [
        {
          "output_type": "stream",
          "text": [
            "__________________________________________________________________________________________________\n",
            "Layer (type)                    Output Shape         Param #     Connected to                     \n",
            "==================================================================================================\n",
            "text (InputLayer)               (None, None)         0                                            \n",
            "__________________________________________________________________________________________________\n",
            "question (InputLayer)           (None, None)         0                                            \n",
            "__________________________________________________________________________________________________\n",
            "embedding_1 (Embedding)         (None, None, 64)     640000      text[0][0]                       \n",
            "__________________________________________________________________________________________________\n",
            "embedding_2 (Embedding)         (None, None, 32)     320000      question[0][0]                   \n",
            "__________________________________________________________________________________________________\n",
            "lstm_1 (LSTM)                   (None, 32)           12416       embedding_1[0][0]                \n",
            "__________________________________________________________________________________________________\n",
            "lstm_2 (LSTM)                   (None, 16)           3136        embedding_2[0][0]                \n",
            "__________________________________________________________________________________________________\n",
            "concatenate_1 (Concatenate)     (None, 48)           0           lstm_1[0][0]                     \n",
            "                                                                 lstm_2[0][0]                     \n",
            "__________________________________________________________________________________________________\n",
            "dense_9 (Dense)                 (None, 500)          24500       concatenate_1[0][0]              \n",
            "==================================================================================================\n",
            "Total params: 1,000,052\n",
            "Trainable params: 1,000,052\n",
            "Non-trainable params: 0\n",
            "__________________________________________________________________________________________________\n"
          ],
          "name": "stdout"
        }
      ]
    },
    {
      "metadata": {
        "id": "rvyl5Y6tRWMd",
        "colab_type": "code",
        "outputId": "bea8fff3-d005-44a2-df62-ca0883de9469",
        "colab": {
          "base_uri": "https://localhost:8080/",
          "height": 485
        }
      },
      "cell_type": "code",
      "source": [
        "import numpy as np\n",
        "num_samples=1000\n",
        "max_len=100\n",
        "\n",
        "text=np.random.randint(1, text_voc_size, size=(num_samples, max_len))\n",
        "question=np.random.randint(1, quest_voc_size, size=(num_samples, max_len))\n",
        "answers=np.random.randint(0,1, size=(num_samples, answer_voc_size))\n",
        "model.fit([text, question], \n",
        "          answers, \n",
        "          epochs=10, \n",
        "          batch_size=128)"
      ],
      "execution_count": 0,
      "outputs": [
        {
          "output_type": "stream",
          "text": [
            "WARNING:tensorflow:From /usr/local/lib/python3.6/dist-packages/tensorflow/python/ops/math_ops.py:3066: to_int32 (from tensorflow.python.ops.math_ops) is deprecated and will be removed in a future version.\n",
            "Instructions for updating:\n",
            "Use tf.cast instead.\n",
            "Epoch 1/10\n",
            "1000/1000 [==============================] - 7s 7ms/step - loss: 0.0000e+00 - acc: 1.0000e-03\n",
            "Epoch 2/10\n",
            "1000/1000 [==============================] - 3s 3ms/step - loss: 0.0000e+00 - acc: 1.0000e-03\n",
            "Epoch 3/10\n",
            "1000/1000 [==============================] - 3s 3ms/step - loss: 0.0000e+00 - acc: 1.0000e-03\n",
            "Epoch 4/10\n",
            "1000/1000 [==============================] - 3s 3ms/step - loss: 0.0000e+00 - acc: 1.0000e-03\n",
            "Epoch 5/10\n",
            "1000/1000 [==============================] - 3s 3ms/step - loss: 0.0000e+00 - acc: 1.0000e-03\n",
            "Epoch 6/10\n",
            "1000/1000 [==============================] - 3s 3ms/step - loss: 0.0000e+00 - acc: 1.0000e-03\n",
            "Epoch 7/10\n",
            "1000/1000 [==============================] - 3s 3ms/step - loss: 0.0000e+00 - acc: 1.0000e-03\n",
            "Epoch 8/10\n",
            "1000/1000 [==============================] - 3s 3ms/step - loss: 0.0000e+00 - acc: 1.0000e-03\n",
            "Epoch 9/10\n",
            "1000/1000 [==============================] - 3s 3ms/step - loss: 0.0000e+00 - acc: 1.0000e-03\n",
            "Epoch 10/10\n",
            "1000/1000 [==============================] - 3s 3ms/step - loss: 0.0000e+00 - acc: 1.0000e-03\n"
          ],
          "name": "stdout"
        },
        {
          "output_type": "execute_result",
          "data": {
            "text/plain": [
              "<keras.callbacks.History at 0x7f9457b21550>"
            ]
          },
          "metadata": {
            "tags": []
          },
          "execution_count": 6
        }
      ]
    },
    {
      "metadata": {
        "id": "loHDclwKWyXV",
        "colab_type": "text"
      },
      "cell_type": "markdown",
      "source": [
        "##3) Multi-ouput model"
      ]
    },
    {
      "metadata": {
        "id": "XMiN2vjZTVAc",
        "colab_type": "code",
        "outputId": "6c19101d-5c78-4dbb-c696-03cfad644d45",
        "colab": {
          "base_uri": "https://localhost:8080/",
          "height": 504
        }
      },
      "cell_type": "code",
      "source": [
        "from keras.models import Model\n",
        "from keras import layers\n",
        "from keras import Input\n",
        "\n",
        "voc_size=50000\n",
        "num_income_groups=10\n",
        "\n",
        "posts_input=Input(shape=(None,), dtype='int32', name='posts')\n",
        "embedded_posts=layers.Embedding(voc_size, 256)(posts_input)\n",
        "x=layers.Conv1D(126, 5, activation='relu')(embedded_posts)\n",
        "x=layers.MaxPooling1D(5)(x)\n",
        "x=layers.Conv1D(126, 5, activation='relu')(embedded_posts)\n",
        "x=layers.Conv1D(126, 5, activation='relu')(embedded_posts)\n",
        "x=layers.MaxPooling1D(5)(x)\n",
        "x=layers.MaxPooling1D(5)(x)\n",
        "x=layers.GlobalMaxPooling1D()(x)\n",
        "\n",
        "age_pred=layers.Dense(1, name='age')(x)\n",
        "income_pred=layers.Dense(num_income_groups, activation='softmax', name='income')(x)\n",
        "gender_pred=layers.Dense(1, activation='sigmoid', name='gender')(x)\n",
        "\n",
        "model=Model(posts_input, [age_pred, income_pred, gender_pred])\n",
        "model.summary()"
      ],
      "execution_count": 0,
      "outputs": [
        {
          "output_type": "stream",
          "text": [
            "__________________________________________________________________________________________________\n",
            "Layer (type)                    Output Shape         Param #     Connected to                     \n",
            "==================================================================================================\n",
            "posts (InputLayer)              (None, None)         0                                            \n",
            "__________________________________________________________________________________________________\n",
            "embedding_3 (Embedding)         (None, None, 256)    12800000    posts[0][0]                      \n",
            "__________________________________________________________________________________________________\n",
            "conv1d_5 (Conv1D)               (None, None, 126)    161406      embedding_3[0][0]                \n",
            "__________________________________________________________________________________________________\n",
            "max_pooling1d_3 (MaxPooling1D)  (None, None, 126)    0           conv1d_5[0][0]                   \n",
            "__________________________________________________________________________________________________\n",
            "max_pooling1d_4 (MaxPooling1D)  (None, None, 126)    0           max_pooling1d_3[0][0]            \n",
            "__________________________________________________________________________________________________\n",
            "global_max_pooling1d_2 (GlobalM (None, 126)          0           max_pooling1d_4[0][0]            \n",
            "__________________________________________________________________________________________________\n",
            "age (Dense)                     (None, 1)            127         global_max_pooling1d_2[0][0]     \n",
            "__________________________________________________________________________________________________\n",
            "income (Dense)                  (None, 10)           1270        global_max_pooling1d_2[0][0]     \n",
            "__________________________________________________________________________________________________\n",
            "gender (Dense)                  (None, 1)            127         global_max_pooling1d_2[0][0]     \n",
            "==================================================================================================\n",
            "Total params: 12,962,930\n",
            "Trainable params: 12,962,930\n",
            "Non-trainable params: 0\n",
            "__________________________________________________________________________________________________\n"
          ],
          "name": "stdout"
        }
      ]
    },
    {
      "metadata": {
        "id": "7kEhkxttTXAk",
        "colab_type": "code",
        "colab": {}
      },
      "cell_type": "code",
      "source": [
        "model.compile(optimizer='rmsprop',\n",
        "             loss=['mse', 'categorical_crossentropy', 'binary_crossentropy'],\n",
        "             loss_weights=[0.25, 1., 10.])\n"
      ],
      "execution_count": 0,
      "outputs": []
    },
    {
      "metadata": {
        "id": "TmxbzU7TdsIC",
        "colab_type": "text"
      },
      "cell_type": "markdown",
      "source": [
        "##4) Directed acyclic graphs of layers"
      ]
    },
    {
      "metadata": {
        "id": "C6fouTx_dQPh",
        "colab_type": "code",
        "outputId": "23f1fdd1-0399-4d08-9527-8825d1692e54",
        "colab": {
          "base_uri": "https://localhost:8080/",
          "height": 467
        }
      },
      "cell_type": "code",
      "source": [
        "#Inception Module\n",
        "\n",
        "from keras import layers\n",
        "\n",
        "x=Input(shape=(None,None,3), dtype='float32', name='x')\n",
        "\n",
        "branch_a=layers.Conv2D(128, 1, activation='relu', strides=2)(x)\n",
        "branch_b=layers.Conv2D(128, 1, activation='relu')(x)\n",
        "branch_b=layers.Conv2D(128, 3, activation='relu', strides=2)(branch_b)\n",
        "\n",
        "branch_c=layers.Conv2D(128,1,activation='relu')(x)\n",
        "branch_c=layers.Conv2D(128,3, activation='relu')(branch_c)\n",
        "\n",
        "concatenate=layers.concatenate([branch_a, branch_b, branch_c], axis=-1)\n",
        "#output=layers.Dense(1, activation='sigmoid')(concatenate)\n",
        "\n",
        "model=Model(x, concatenate)\n",
        "\n",
        "model.summary()"
      ],
      "execution_count": 0,
      "outputs": [
        {
          "output_type": "stream",
          "text": [
            "__________________________________________________________________________________________________\n",
            "Layer (type)                    Output Shape         Param #     Connected to                     \n",
            "==================================================================================================\n",
            "x (InputLayer)                  (None, None, None, 3 0                                            \n",
            "__________________________________________________________________________________________________\n",
            "conv2d_2 (Conv2D)               (None, None, None, 1 512         x[0][0]                          \n",
            "__________________________________________________________________________________________________\n",
            "conv2d_4 (Conv2D)               (None, None, None, 1 512         x[0][0]                          \n",
            "__________________________________________________________________________________________________\n",
            "conv2d_1 (Conv2D)               (None, None, None, 1 512         x[0][0]                          \n",
            "__________________________________________________________________________________________________\n",
            "conv2d_3 (Conv2D)               (None, None, None, 1 147584      conv2d_2[0][0]                   \n",
            "__________________________________________________________________________________________________\n",
            "conv2d_5 (Conv2D)               (None, None, None, 1 147584      conv2d_4[0][0]                   \n",
            "__________________________________________________________________________________________________\n",
            "concatenate_2 (Concatenate)     (None, None, None, 3 0           conv2d_1[0][0]                   \n",
            "                                                                 conv2d_3[0][0]                   \n",
            "                                                                 conv2d_5[0][0]                   \n",
            "==================================================================================================\n",
            "Total params: 296,704\n",
            "Trainable params: 296,704\n",
            "Non-trainable params: 0\n",
            "__________________________________________________________________________________________________\n"
          ],
          "name": "stdout"
        }
      ]
    },
    {
      "metadata": {
        "id": "2pZqcGRqj959",
        "colab_type": "code",
        "outputId": "862baceb-224e-4195-911a-6f6b20267628",
        "colab": {
          "base_uri": "https://localhost:8080/",
          "height": 373
        }
      },
      "cell_type": "code",
      "source": [
        "## Residual Connection\n",
        "#to overcome vanishing gradients and representational bottlenecks\n",
        "\n",
        "x=Input(shape=(None, None,1), dtype='float32', name='x')#some 4D input tensor\n",
        "y=layers.Conv2D(128, 3, activation='relu', padding='same')(x)\n",
        "y=layers.Conv2D(128, 3, activation='relu',padding='same')(y)\n",
        "y=layers.add([y,x])\n",
        "output=layers.GlobalMaxPooling2D()(y)\n",
        "\n",
        "model=Model(x,output)\n",
        "model.summary()"
      ],
      "execution_count": 0,
      "outputs": [
        {
          "output_type": "stream",
          "text": [
            "__________________________________________________________________________________________________\n",
            "Layer (type)                    Output Shape         Param #     Connected to                     \n",
            "==================================================================================================\n",
            "x (InputLayer)                  (None, None, None, 1 0                                            \n",
            "__________________________________________________________________________________________________\n",
            "conv2d_6 (Conv2D)               (None, None, None, 1 1280        x[0][0]                          \n",
            "__________________________________________________________________________________________________\n",
            "conv2d_7 (Conv2D)               (None, None, None, 1 147584      conv2d_6[0][0]                   \n",
            "__________________________________________________________________________________________________\n",
            "add_1 (Add)                     (None, None, None, 1 0           conv2d_7[0][0]                   \n",
            "                                                                 x[0][0]                          \n",
            "__________________________________________________________________________________________________\n",
            "global_max_pooling2d_1 (GlobalM (None, 128)          0           add_1[0][0]                      \n",
            "==================================================================================================\n",
            "Total params: 148,864\n",
            "Trainable params: 148,864\n",
            "Non-trainable params: 0\n",
            "__________________________________________________________________________________________________\n"
          ],
          "name": "stdout"
        }
      ]
    },
    {
      "metadata": {
        "id": "5zlj7l7dr94e",
        "colab_type": "text"
      },
      "cell_type": "markdown",
      "source": [
        "## 5) Layer Weight Sharing"
      ]
    },
    {
      "metadata": {
        "id": "-MmkPuP1pFH1",
        "colab_type": "code",
        "outputId": "1d7ff49a-b588-49a0-ca4d-3bc91d591dfc",
        "colab": {
          "base_uri": "https://localhost:8080/",
          "height": 251
        }
      },
      "cell_type": "code",
      "source": [
        "#psuedo\n",
        "\n",
        "lstm=layers.LSTM(32)\n",
        "\n",
        "left_input=Input(shape=(None, 128))\n",
        "left_output=lstm(left_input)\n",
        "\n",
        "right_input=Input(shape=(None, 128))\n",
        "right_output=lstm(right_output)\n",
        "\n",
        "\n",
        "merged=layers.concatenate([left_output, right_output], axis=-1)\n",
        "pred=layers.Dense(1, activation='sigmoid')(merged)\n",
        "\n",
        "model=Model([left_input, right_input], pred)\n",
        "model.fit([left_data, right_data], targets)"
      ],
      "execution_count": 0,
      "outputs": [
        {
          "output_type": "error",
          "ename": "NameError",
          "evalue": "ignored",
          "traceback": [
            "\u001b[0;31m---------------------------------------------------------------------------\u001b[0m",
            "\u001b[0;31mNameError\u001b[0m                                 Traceback (most recent call last)",
            "\u001b[0;32m<ipython-input-11-9f6f3b591794>\u001b[0m in \u001b[0;36m<module>\u001b[0;34m()\u001b[0m\n\u001b[1;32m      6\u001b[0m \u001b[0;34m\u001b[0m\u001b[0m\n\u001b[1;32m      7\u001b[0m \u001b[0mright_input\u001b[0m\u001b[0;34m=\u001b[0m\u001b[0mInput\u001b[0m\u001b[0;34m(\u001b[0m\u001b[0mshape\u001b[0m\u001b[0;34m=\u001b[0m\u001b[0;34m(\u001b[0m\u001b[0;32mNone\u001b[0m\u001b[0;34m,\u001b[0m \u001b[0;36m128\u001b[0m\u001b[0;34m)\u001b[0m\u001b[0;34m)\u001b[0m\u001b[0;34m\u001b[0m\u001b[0;34m\u001b[0m\u001b[0m\n\u001b[0;32m----> 8\u001b[0;31m \u001b[0mright_output\u001b[0m\u001b[0;34m=\u001b[0m\u001b[0mlstm\u001b[0m\u001b[0;34m(\u001b[0m\u001b[0mright_output\u001b[0m\u001b[0;34m)\u001b[0m\u001b[0;34m\u001b[0m\u001b[0;34m\u001b[0m\u001b[0m\n\u001b[0m\u001b[1;32m      9\u001b[0m \u001b[0;34m\u001b[0m\u001b[0m\n\u001b[1;32m     10\u001b[0m \u001b[0;34m\u001b[0m\u001b[0m\n",
            "\u001b[0;31mNameError\u001b[0m: name 'right_output' is not defined"
          ]
        }
      ]
    },
    {
      "metadata": {
        "id": "lW9BRjIztCf8",
        "colab_type": "text"
      },
      "cell_type": "markdown",
      "source": [
        "#Keras callbacks and TensorBoard\n",
        "for inspecting and monitoring deep-learning models"
      ]
    },
    {
      "metadata": {
        "id": "hA_shjDYtWAZ",
        "colab_type": "text"
      },
      "cell_type": "markdown",
      "source": [
        "##1) using callbacks to act on a model during training\n",
        "\n",
        "- model checkpointing\n",
        "- Early stopping\n",
        "- Dynamically adjusting the value of certain parameters during training\n",
        "- Logging training and validation metics duing training, or visualinzing the representations learned by the model as they're updated"
      ]
    },
    {
      "metadata": {
        "id": "KOowp9G4uHhB",
        "colab_type": "text"
      },
      "cell_type": "markdown",
      "source": [
        "### model checkpoint"
      ]
    },
    {
      "metadata": {
        "id": "YCC9BuZk9AX9",
        "colab_type": "code",
        "colab": {}
      },
      "cell_type": "code",
      "source": [
        "#with a pre-defined model\n",
        "\n",
        "import keras\n",
        "\n",
        "callbacks_list=[keras.callbacks.EarlyStopping(monitor='acc',\n",
        "                                              patience=1,),\n",
        "               keras.callbacks.ModelCheckpoint(filepath='my_model.h5',\n",
        "                                               monitor='val_loss', \n",
        "                                               save_best_only=1,)]\n",
        "\n",
        "model.compile(optimizer='rmsprop',\n",
        "             loss='binary_crossentropy',\n",
        "             metics=['acc'])\n",
        "\n",
        "model.fit(x,y,\n",
        "         epochs=10,\n",
        "         callbacks=callbacks_list,\n",
        "         validation_data=(x_val, y_val))\n",
        "\n"
      ],
      "execution_count": 0,
      "outputs": []
    },
    {
      "metadata": {
        "id": "8f2iMm81wa8H",
        "colab_type": "text"
      },
      "cell_type": "markdown",
      "source": [
        "###ReduceLROnPlateau\n",
        "--> reduce the learning rate on plateau"
      ]
    },
    {
      "metadata": {
        "id": "7BEszDc2tO0x",
        "colab_type": "code",
        "colab": {}
      },
      "cell_type": "code",
      "source": [
        "callbacks_list=[keras.callbacks.ReduceLROnPlateau(monitor='val_loss',\n",
        "                                                factor=0.1,#divide LR by 10 when triggered\n",
        "                                                patience=10,)]\n",
        "\n",
        "model.fit(x,y,\n",
        "         epochs=10,\n",
        "         batch_size=32,\n",
        "         callbacks=callbacks_list,\n",
        "         validation_data=(x_val,y_val))\n"
      ],
      "execution_count": 0,
      "outputs": []
    },
    {
      "metadata": {
        "id": "mlpUqMOp0US4",
        "colab_type": "text"
      },
      "cell_type": "markdown",
      "source": [
        "###Making your own callback"
      ]
    },
    {
      "metadata": {
        "id": "TacFQKkLtOyJ",
        "colab_type": "code",
        "colab": {}
      },
      "cell_type": "code",
      "source": [
        "import keras \n",
        "import numpy as np\n",
        "\n",
        "class ActivaitonLogger(keras.callbacks.Callback):\n",
        "  def set_model(self, model):\n",
        "    self.model=model\n",
        "    layer_outputs=[layer.output for layer in model.layeers]\n",
        "    self.activations_model=keras.models.Model(model.input,\n",
        "                                             layer_outputs)\n",
        "  def on_epoch_end(self, epoch, logs=None):\n",
        "    if self.validation_data is None:\n",
        "      raise RuntimeError('Requires validation_data.')\n",
        "    validation_sample=self.validation_data[0][0:1]\n",
        "    activations=self.activations_model.predict(validation_sample)\n",
        "    f=open('activation_at_epoch_'+str(epoch)+'.npz','w')\n",
        "    np.savez(f, activations)\n",
        "    f.close()\n"
      ],
      "execution_count": 0,
      "outputs": []
    },
    {
      "metadata": {
        "id": "Xu1kXwIk1c26",
        "colab_type": "text"
      },
      "cell_type": "markdown",
      "source": [
        "##2) Intro to TensorBoard:\n",
        "the tensorflow visualization framework\n",
        "\n",
        "- visually monitoring metrics during training\n",
        "- visualizing your model architecture\n",
        "- visualizing histograms of activations and gredients\n",
        "- Exploring embeddings in 3D"
      ]
    },
    {
      "metadata": {
        "id": "UVPHYS3BtN11",
        "colab_type": "code",
        "outputId": "c482fa2f-d687-47b0-ee28-44895de2694c",
        "colab": {
          "base_uri": "https://localhost:8080/",
          "height": 372
        }
      },
      "cell_type": "code",
      "source": [
        "import keras\n",
        "from keras import layers\n",
        "from keras.datasets import imdb\n",
        "from keras.preprocessing import sequence\n",
        "\n",
        "max_features=2000\n",
        "max_len=500\n",
        "\n",
        "(x_train, y_train), (x_test, y_test)=imdb.load_data(num_words=max_features)\n",
        "x_train=sequence.pad_sequences(x_train, maxlen=max_len)\n",
        "x_test=sequence.pad_sequences(x_test, maxlen=max_len)\n",
        "\n",
        "model=keras.models.Sequential()\n",
        "model.add(layers.Embedding(max_features, 128, input_length=max_len, name='embed'))\n",
        "model.add(layers.Conv1D(32, 7, activation='relu'))\n",
        "model.add(layers.MaxPooling1D(5))\n",
        "model.add(layers.Conv1D(32,7, activation='relu'))\n",
        "model.add(layers.GlobalMaxPooling1D())\n",
        "model.add(layers.Dense(1))\n",
        "model.summary()\n",
        "model.compile(optimizer='rmsprop',\n",
        "             loss='binary_crossentropy',\n",
        "             metrics=['acc'])\n"
      ],
      "execution_count": 0,
      "outputs": [
        {
          "output_type": "stream",
          "text": [
            "_________________________________________________________________\n",
            "Layer (type)                 Output Shape              Param #   \n",
            "=================================================================\n",
            "embed (Embedding)            (None, 500, 128)          256000    \n",
            "_________________________________________________________________\n",
            "conv1d_8 (Conv1D)            (None, 494, 32)           28704     \n",
            "_________________________________________________________________\n",
            "max_pooling1d_6 (MaxPooling1 (None, 98, 32)            0         \n",
            "_________________________________________________________________\n",
            "conv1d_9 (Conv1D)            (None, 92, 32)            7200      \n",
            "_________________________________________________________________\n",
            "global_max_pooling1d_4 (Glob (None, 32)                0         \n",
            "_________________________________________________________________\n",
            "dense_11 (Dense)             (None, 1)                 33        \n",
            "=================================================================\n",
            "Total params: 291,937\n",
            "Trainable params: 291,937\n",
            "Non-trainable params: 0\n",
            "_________________________________________________________________\n"
          ],
          "name": "stdout"
        }
      ]
    },
    {
      "metadata": {
        "id": "22e0nR4RB5Yf",
        "colab_type": "code",
        "colab": {}
      },
      "cell_type": "code",
      "source": [
        "from keras.utils import plot_model\n",
        "plot_model(model, show_shapes=True, to_file='model1.png')"
      ],
      "execution_count": 0,
      "outputs": []
    },
    {
      "metadata": {
        "id": "VY_FeeS6tNzL",
        "colab_type": "code",
        "colab": {}
      },
      "cell_type": "code",
      "source": [
        "!mkdir my_log_dir"
      ],
      "execution_count": 0,
      "outputs": []
    },
    {
      "metadata": {
        "id": "DUncIu1dtNxz",
        "colab_type": "code",
        "colab": {}
      },
      "cell_type": "code",
      "source": [
        "##don't understand why it's not workin'\n",
        "\n",
        "callbacks=[keras.callbacks.TensorBoard(log_dir='my_log_dir',\n",
        "                                      histogram_freq=1,\n",
        "                                      embeddings_freq=1,\n",
        "                                      )]\n",
        "\n",
        "history=model.fit(x_train, y_train,\n",
        "                 epochs=20,\n",
        "                 batch_size=128,\n",
        "                 validation_split=0.2,\n",
        "                 callbacks=callbacks)"
      ],
      "execution_count": 0,
      "outputs": []
    },
    {
      "metadata": {
        "id": "X81Q6TolDeZG",
        "colab_type": "text"
      },
      "cell_type": "markdown",
      "source": [
        "#Getting the most out of your models"
      ]
    },
    {
      "metadata": {
        "id": "27BEtB0lD_0w",
        "colab_type": "text"
      },
      "cell_type": "markdown",
      "source": [
        "##1) Advanced architecture patterns"
      ]
    },
    {
      "metadata": {
        "id": "gXBnmb-nEEyT",
        "colab_type": "code",
        "colab": {}
      },
      "cell_type": "code",
      "source": [
        "##Batch Normalization\n",
        "\n",
        "conv_model.add(layers.Conv2D(32, 3, activation='relu'))\n",
        "conv_model.add(layers.BatchNormalization())\n",
        "\n",
        "dense_model.add(layers.Dense(32, activation='relu'))\n",
        "dense_model.add(layers,BatchNormalization())\n"
      ],
      "execution_count": 0,
      "outputs": []
    },
    {
      "metadata": {
        "id": "P87kOwNK5jzH",
        "colab_type": "text"
      },
      "cell_type": "markdown",
      "source": [
        "Batch renomalization\n",
        "\n"
      ]
    },
    {
      "metadata": {
        "id": "-UEaHBoz43N8",
        "colab_type": "code",
        "outputId": "32ed9c54-0760-426a-8f80-ab84e54df23e",
        "colab": {
          "base_uri": "https://localhost:8080/",
          "height": 255
        }
      },
      "cell_type": "code",
      "source": [
        "##Depthwise Separable Convolution\n",
        "\n",
        "#sample\n",
        "\n",
        "from keras.models import Sequential, Model\n",
        "from keras import layers\n",
        "\n",
        "height=64\n",
        "width=64\n",
        "channels=3\n",
        "num_classes=10\n",
        "\n",
        "model=Sequential()\n",
        "model.add(layers.SeparableConv2D(32,3,activation='relu',\n",
        "                                input_shape=(height,width, channels,)))\n",
        "model.add(layers.MaxPooling2D(2))\n",
        "model.add(layers.SeparableConv2D(64,3,activation='relu'))\n",
        "\n",
        "model.summary()"
      ],
      "execution_count": 0,
      "outputs": [
        {
          "output_type": "stream",
          "text": [
            "_________________________________________________________________\n",
            "Layer (type)                 Output Shape              Param #   \n",
            "=================================================================\n",
            "separable_conv2d_2 (Separabl (None, 62, 62, 32)        155       \n",
            "_________________________________________________________________\n",
            "max_pooling2d_2 (MaxPooling2 (None, 31, 31, 32)        0         \n",
            "_________________________________________________________________\n",
            "separable_conv2d_3 (Separabl (None, 29, 29, 64)        2400      \n",
            "=================================================================\n",
            "Total params: 2,555\n",
            "Trainable params: 2,555\n",
            "Non-trainable params: 0\n",
            "_________________________________________________________________\n"
          ],
          "name": "stdout"
        }
      ]
    },
    {
      "metadata": {
        "id": "ZQvMY6hVKLbs",
        "colab_type": "text"
      },
      "cell_type": "markdown",
      "source": [
        "##2) Hyperparameter optimization\n",
        "\n",
        "library: Hyperopt, Hyperas\n",
        "\n",
        "it is still young and immature"
      ]
    },
    {
      "metadata": {
        "id": "Z7klkOPZJ3xi",
        "colab_type": "code",
        "colab": {}
      },
      "cell_type": "code",
      "source": [
        ""
      ],
      "execution_count": 0,
      "outputs": []
    }
  ]
}